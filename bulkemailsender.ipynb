{
 "cells": [
  {
   "cell_type": "code",
   "execution_count": 1,
   "metadata": {},
   "outputs": [],
   "source": [
    "import smtplib\n",
    "import mimetypes\n",
    "import email\n",
    "import email.mime.text\n",
    "from email.utils import COMMASPACE, formatdate \n",
    "from email.mime.image import MIMEImage\n",
    "from email.mime.multipart import MIMEMultipart\n",
    "import unicodecsv"
   ]
  },
  {
   "cell_type": "code",
   "execution_count": 2,
   "metadata": {},
   "outputs": [
    {
     "name": "stdout",
     "output_type": "stream",
     "text": [
      "[OrderedDict([('email', 'ansshu.falgu@gmail.com'), ('img_path', 'images/swami.png')]), OrderedDict([('email', 'ansshu.143@gmail.com'), ('img_path', 'images/photo.jpg')]), OrderedDict([('email', 'Rakesh.pij@gmail.com'), ('img_path', 'images/card1.png')]), OrderedDict([('email', 'Rakesh_pij@yahoo.com'), ('img_path', 'images/card1.jpg')]), OrderedDict([('email', 'Rakesh.pij@outlook.com'), ('img_path', 'images/card2.jpg')]), OrderedDict([('email', 'apatelschiller@gmail.com'), ('img_path', 'images/card3.jpg')])]\n",
      "it.brijesh@gmail.com\n"
     ]
    }
   ],
   "source": [
    "details = []\n",
    "config_details = []\n",
    "\n",
    "with open('data/data.csv', 'rb') as data_file:\n",
    "    reader = unicodecsv.DictReader( data_file )\n",
    "    details = list( reader )\n",
    "    \n",
    "print( details )\n",
    "\n",
    "with open('config/config.csv', 'rb') as config_file:\n",
    "    reader = unicodecsv.DictReader( config_file )\n",
    "    config_details = list( reader )\n",
    "    \n",
    "print( config_details[0]['from_email'] )\n",
    "    "
   ]
  },
  {
   "cell_type": "code",
   "execution_count": 3,
   "metadata": {},
   "outputs": [
    {
     "name": "stdout",
     "output_type": "stream",
     "text": [
      "it.brijesh@gmail.com\n",
      "Mail sent to  ansshu.falgu@gmail.com\n",
      "Mail sent to  ansshu.143@gmail.com\n",
      "Mail sent to  Rakesh.pij@gmail.com\n",
      "Mail sent to  Rakesh_pij@yahoo.com\n",
      "Mail sent to  Rakesh.pij@outlook.com\n",
      "Mail sent to  apatelschiller@gmail.com\n"
     ]
    }
   ],
   "source": [
    "From = config_details[0]['from_email']\n",
    "\n",
    "print( From )\n",
    "\n",
    "for data in details:\n",
    "    to_email = data['email']\n",
    "    img_path = data['img_path']\n",
    "    \n",
    "    msg = email.mime.multipart.MIMEMultipart()\n",
    "    \n",
    "    msg['From'] = From\n",
    "    msg['To'] = to_email\n",
    "    msg['Date'] = formatdate(localtime=True)\n",
    "    msg['Subject'] = config_details[0]['subject']\n",
    "    \n",
    "    email_message = config_details[0]['message']\n",
    "    \n",
    "    msg.attach( email.mime.text.MIMEText( email_message ) )\n",
    "\n",
    "    smtp = smtplib.SMTP( config_details[0]['smtp'] )\n",
    "    smtp.starttls()\n",
    "    smtp.login( From, config_details[0]['key']) # smtp email/password or key\n",
    "    \n",
    "    ctype, encoding = mimetypes.guess_type(img_path)\n",
    "    \n",
    "    if ctype is None or encoding is not None:\n",
    "        ctype = 'application/octet-stream'\n",
    "    \n",
    "    maintype, subtype = ctype.split('/', 1)\n",
    "    \n",
    "    fp = open(img_path, 'rb')\n",
    "    part = email.mime.image.MIMEImage(fp.read(), _subtype=subtype)\n",
    "    fp.close()\n",
    "    \n",
    "    part.add_header('Content-Disposition', 'attachment; filename=\"%s\"' % img_path)\n",
    "    msg.attach(part)\n",
    "\n",
    "    try:\n",
    "        smtp.sendmail(From, to_email, msg.as_string())\n",
    "    except:\n",
    "        print(\"Mail not sent for \", to_email )\n",
    "    else:\n",
    "        print(\"Mail sent to \", to_email )\n",
    "    smtp.close()\n",
    "\n",
    "\n"
   ]
  },
  {
   "cell_type": "code",
   "execution_count": null,
   "metadata": {},
   "outputs": [],
   "source": []
  }
 ],
 "metadata": {
  "kernelspec": {
   "display_name": "Python 3",
   "language": "python",
   "name": "python3"
  },
  "language_info": {
   "codemirror_mode": {
    "name": "ipython",
    "version": 3
   },
   "file_extension": ".py",
   "mimetype": "text/x-python",
   "name": "python",
   "nbconvert_exporter": "python",
   "pygments_lexer": "ipython3",
   "version": "3.6.6"
  }
 },
 "nbformat": 4,
 "nbformat_minor": 2
}
