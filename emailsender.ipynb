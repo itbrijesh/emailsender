{
 "cells": [
  {
   "cell_type": "code",
   "execution_count": 44,
   "metadata": {},
   "outputs": [],
   "source": [
    "import smtplib\n",
    "import mimetypes\n",
    "import email\n",
    "import email.mime.text\n",
    "from email.utils import COMMASPACE, formatdate \n",
    "from email.mime.image import MIMEImage\n",
    "\n",
    "filePath = \"swami.png\"#your file name\n",
    "\n",
    "To = 'tempusa143@gmail.com'\n",
    "From = 'it.brijesh@gmail.com'\n",
    "\n",
    "msg = MIMEMultipart()\n",
    "msg['From'] = From\n",
    "msg['To'] = To\n",
    "msg['Date'] = formatdate(localtime=True)\n",
    "msg['Subject'] = 'Image Email Attachment Python'"
   ]
  },
  {
   "cell_type": "code",
   "execution_count": 40,
   "metadata": {},
   "outputs": [
    {
     "data": {
      "text/plain": [
       "(235, b'2.7.0 Accepted')"
      ]
     },
     "execution_count": 40,
     "metadata": {},
     "output_type": "execute_result"
    }
   ],
   "source": [
    "email_message = 'Jai Swaminarayan ! \\n Hope you had a nice memory visting my house. \\n \\n Please find the attached file for your photo for long term memory ! \\n Thank you !'\n",
    "msg.attach( email.mime.text.MIMEText( email_message ) )\n",
    "\n",
    "smtp = smtplib.SMTP('smtp.gmail.com:587')\n",
    "smtp.starttls()\n",
    "smtp.login('it.brijesh@gmail.com', 'knusfddlxpwynltf')\n",
    "\n"
   ]
  },
  {
   "cell_type": "code",
   "execution_count": 41,
   "metadata": {},
   "outputs": [
    {
     "name": "stdout",
     "output_type": "stream",
     "text": [
      "image\n",
      "png\n"
     ]
    }
   ],
   "source": [
    "ctype, encoding = mimetypes.guess_type(filePath)\n",
    "if ctype is None or encoding is not None:\n",
    "    # No guess could be made, or the file is encoded (compressed), so\n",
    "    # use a generic bag-of-bits type.\n",
    "    ctype = 'application/octet-stream'\n",
    "    \n",
    "maintype, subtype = ctype.split('/', 1)\n",
    "\n",
    "print( maintype )\n",
    "print( subtype )"
   ]
  },
  {
   "cell_type": "code",
   "execution_count": 42,
   "metadata": {},
   "outputs": [],
   "source": [
    "if maintype == 'text':\n",
    "    fp = open(filePath)\n",
    "    # Note: we should handle calculating the charset\n",
    "    part = email.mime.text.MIMEText(fp.read(), _subtype=subtype)\n",
    "    fp.close()\n",
    "elif maintype == 'image':\n",
    "    fp = open(filePath, 'rb')\n",
    "    part = email.mime.image.MIMEImage(fp.read(), _subtype=subtype)\n",
    "    fp.close()\n",
    "elif maintype == 'audio':\n",
    "    fp = open(filePath, 'rb')\n",
    "    part = email.mime.audio.MIMEAudio(fp.read(), _subtype=subtype)\n",
    "    fp.close()\n",
    "else:\n",
    "    fp = open(filePath, 'rb')\n",
    "    part = email.mime.base.MIMEBase(maintype, subtype)\n",
    "    part.set_payload(fp.read())\n",
    "    fp.close()\n",
    "    # Encode the payload using Base64\n",
    "    Encoders.encode_base64(part)\n",
    "    \n"
   ]
  },
  {
   "cell_type": "code",
   "execution_count": 43,
   "metadata": {},
   "outputs": [
    {
     "name": "stdout",
     "output_type": "stream",
     "text": [
      "Mail sent\n"
     ]
    }
   ],
   "source": [
    "part.add_header('Content-Disposition', 'attachment; filename=\"%s\"' % filePath)\n",
    "msg.attach(part)\n",
    "\n",
    "try:\n",
    "    smtp.sendmail(From, To, msg.as_string())\n",
    "except:\n",
    "    print(\"Mail not sent\")\n",
    "else:\n",
    "    print(\"Mail sent\")\n",
    "smtp.close()"
   ]
  }
 ],
 "metadata": {
  "kernelspec": {
   "display_name": "Python 3",
   "language": "python",
   "name": "python3"
  }
 },
 "nbformat": 4,
 "nbformat_minor": 2
}
